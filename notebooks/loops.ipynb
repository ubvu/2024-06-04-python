{
 "cells": [
  {
   "cell_type": "markdown",
   "id": "1f485b54-f5fe-4d36-924a-c7dbcd05d9a8",
   "metadata": {},
   "source": [
    "# loops"
   ]
  },
  {
   "cell_type": "code",
   "execution_count": 13,
   "id": "6796c706-fc05-4c11-8eb2-99f310ac478b",
   "metadata": {},
   "outputs": [],
   "source": [
    "odds = [1,3]\n"
   ]
  },
  {
   "cell_type": "code",
   "execution_count": 9,
   "id": "4d9b0523-4b3e-45ce-90bf-8cfefff825ab",
   "metadata": {},
   "outputs": [
    {
     "name": "stdout",
     "output_type": "stream",
     "text": [
      "1\n",
      "3\n",
      "5\n"
     ]
    },
    {
     "ename": "IndexError",
     "evalue": "list index out of range",
     "output_type": "error",
     "traceback": [
      "\u001b[0;31m---------------------------------------------------------------------------\u001b[0m",
      "\u001b[0;31mIndexError\u001b[0m                                Traceback (most recent call last)",
      "\u001b[0;32m/var/folders/jj/w0d7jhrx0p94_j5_ndwnwmz40000gn/T/ipykernel_13670/2702889027.py\u001b[0m in \u001b[0;36m<module>\u001b[0;34m\u001b[0m\n\u001b[1;32m      2\u001b[0m \u001b[0mprint\u001b[0m\u001b[0;34m(\u001b[0m\u001b[0modds\u001b[0m\u001b[0;34m[\u001b[0m\u001b[0;36m1\u001b[0m\u001b[0;34m]\u001b[0m\u001b[0;34m)\u001b[0m\u001b[0;34m\u001b[0m\u001b[0;34m\u001b[0m\u001b[0m\n\u001b[1;32m      3\u001b[0m \u001b[0mprint\u001b[0m\u001b[0;34m(\u001b[0m\u001b[0modds\u001b[0m\u001b[0;34m[\u001b[0m\u001b[0;36m2\u001b[0m\u001b[0;34m]\u001b[0m\u001b[0;34m)\u001b[0m\u001b[0;34m\u001b[0m\u001b[0;34m\u001b[0m\u001b[0m\n\u001b[0;32m----> 4\u001b[0;31m \u001b[0mprint\u001b[0m\u001b[0;34m(\u001b[0m\u001b[0modds\u001b[0m\u001b[0;34m[\u001b[0m\u001b[0;36m3\u001b[0m\u001b[0;34m]\u001b[0m\u001b[0;34m)\u001b[0m\u001b[0;34m\u001b[0m\u001b[0;34m\u001b[0m\u001b[0m\n\u001b[0m",
      "\u001b[0;31mIndexError\u001b[0m: list index out of range"
     ]
    }
   ],
   "source": [
    "print(odds[0])\n",
    "print(odds[1])\n",
    "print(odds[2])\n",
    "print(odds[3])"
   ]
  },
  {
   "cell_type": "code",
   "execution_count": 17,
   "id": "97723d08-973b-4d28-902b-39c49bf39ce3",
   "metadata": {},
   "outputs": [],
   "source": [
    "odds = [1,3,5,7,9]"
   ]
  },
  {
   "cell_type": "code",
   "execution_count": 25,
   "id": "ee792a43-eb61-490d-8448-a520fddd33b0",
   "metadata": {},
   "outputs": [
    {
     "name": "stdout",
     "output_type": "stream",
     "text": [
      "1\n",
      "3\n",
      "5\n",
      "7\n",
      "9\n"
     ]
    }
   ],
   "source": [
    "for banana in odds:\n",
    "    print(banana)"
   ]
  },
  {
   "cell_type": "code",
   "execution_count": 21,
   "id": "e1ed553a-9a04-4a15-b5cb-9a7a89d410a9",
   "metadata": {},
   "outputs": [
    {
     "name": "stdout",
     "output_type": "stream",
     "text": [
      "9\n"
     ]
    }
   ],
   "source": [
    "print(banana)"
   ]
  },
  {
   "cell_type": "code",
   "execution_count": 28,
   "id": "1e702a25-4d90-4c7e-aae2-1077410dee11",
   "metadata": {},
   "outputs": [
    {
     "name": "stdout",
     "output_type": "stream",
     "text": [
      "2\n",
      "4\n",
      "6\n",
      "\n",
      "4\n",
      "16\n",
      "12\n",
      "\n",
      "6\n",
      "36\n",
      "18\n",
      "\n",
      "8\n",
      "64\n",
      "24\n",
      "\n"
     ]
    }
   ],
   "source": [
    "evens = [2,4,6,8]\n",
    "for even_number in evens:\n",
    "    print(even_number)\n",
    "    print(even_number * even_number)\n",
    "    print(even_number * 3)\n",
    "    print('')"
   ]
  },
  {
   "cell_type": "code",
   "execution_count": 31,
   "id": "fad6e10f-3f72-4a2f-8d05-35aee31155d7",
   "metadata": {},
   "outputs": [
    {
     "name": "stdout",
     "output_type": "stream",
     "text": [
      "* Ruben *\n",
      "* Stephanie *\n",
      "* henk *\n",
      "* piet *\n"
     ]
    }
   ],
   "source": [
    "names = ['Ruben', 'Stephanie', 'henk', 'piet']\n",
    "for name in names:\n",
    "    print('*' , name , '*')"
   ]
  },
  {
   "cell_type": "code",
   "execution_count": 32,
   "id": "32827cc0-6cf9-404a-b372-098e585eaffa",
   "metadata": {},
   "outputs": [
    {
     "data": {
      "text/plain": [
       "range(0, 3)"
      ]
     },
     "execution_count": 32,
     "metadata": {},
     "output_type": "execute_result"
    }
   ],
   "source": [
    "range(0,3)"
   ]
  },
  {
   "cell_type": "code",
   "execution_count": 35,
   "id": "10a4a0e1-f2a2-4a82-8959-5278690c96b0",
   "metadata": {},
   "outputs": [
    {
     "name": "stdout",
     "output_type": "stream",
     "text": [
      "[0, 1, 2]\n"
     ]
    }
   ],
   "source": [
    "print(list(range(0,3)))"
   ]
  },
  {
   "cell_type": "code",
   "execution_count": 38,
   "id": "b9ca6a1c-4835-4eeb-b1e8-5c0118a030de",
   "metadata": {},
   "outputs": [
    {
     "name": "stdout",
     "output_type": "stream",
     "text": [
      "1\n",
      "2\n",
      "3\n",
      "4\n",
      "5\n",
      "6\n",
      "7\n",
      "8\n",
      "9\n",
      "10\n"
     ]
    }
   ],
   "source": [
    "for number in range(1,11):\n",
    "    print(number)"
   ]
  },
  {
   "cell_type": "code",
   "execution_count": 42,
   "id": "042b1943-24be-463a-8f31-1b1d7b76145c",
   "metadata": {},
   "outputs": [
    {
     "name": "stdout",
     "output_type": "stream",
     "text": [
      "55\n"
     ]
    }
   ],
   "source": [
    "total = 0\n",
    "for number in range(10):\n",
    "    \n",
    "    total = total  + number + 1\n",
    "\n",
    "print(total)"
   ]
  },
  {
   "cell_type": "code",
   "execution_count": 46,
   "id": "07d5ff88-1798-4fbf-a9ad-15990651c9d5",
   "metadata": {},
   "outputs": [
    {
     "name": "stdout",
     "output_type": "stream",
     "text": [
      "55\n"
     ]
    }
   ],
   "source": [
    "new_total = 0\n",
    "for number in range(1,11):\n",
    "    new_total = new_total + number\n",
    "\n",
    "print(new_total)"
   ]
  },
  {
   "cell_type": "code",
   "execution_count": 48,
   "id": "6fac308e-12a0-4de7-9c59-83329810faae",
   "metadata": {},
   "outputs": [
    {
     "name": "stdout",
     "output_type": "stream",
     "text": [
      "R\n",
      "u\n",
      "b\n",
      "e\n",
      "n\n",
      "5\n"
     ]
    }
   ],
   "source": [
    "# calculate lengt of a string\n",
    "\n",
    "length = 0\n",
    "name = 'Ruben'\n",
    "for letter in name:\n",
    "    print(letter)\n",
    "    length = length + 1\n",
    "    \n",
    "print(length)\n"
   ]
  },
  {
   "cell_type": "code",
   "execution_count": 51,
   "id": "6b0fdf7c-91fa-4d23-8f9c-780f56fe9f58",
   "metadata": {},
   "outputs": [
    {
     "name": "stdout",
     "output_type": "stream",
     "text": [
      "12\n"
     ]
    }
   ],
   "source": [
    "# determine total length of the strings in the list\n",
    "colors = ['red', 'green', 'blue']\n",
    "\n",
    "total_length = 0\n",
    "for color in colors:\n",
    "    total_length = total_length + len(color)"
   ]
  },
  {
   "cell_type": "code",
   "execution_count": 53,
   "id": "d9d1d9f8-0d4a-4879-9253-6ce9df1a1d48",
   "metadata": {},
   "outputs": [
    {
     "data": {
      "text/plain": [
       "12"
      ]
     },
     "execution_count": 53,
     "metadata": {},
     "output_type": "execute_result"
    }
   ],
   "source": [
    "len(('').join(colors))"
   ]
  },
  {
   "cell_type": "code",
   "execution_count": 54,
   "id": "648e138f-f429-40cf-869a-c98f7c865834",
   "metadata": {},
   "outputs": [
    {
     "data": {
      "text/plain": [
       "'red & green & blue'"
      ]
     },
     "execution_count": 54,
     "metadata": {},
     "output_type": "execute_result"
    }
   ],
   "source": [
    "' & '.join(colors)"
   ]
  },
  {
   "cell_type": "markdown",
   "id": "67ba9de1-b6c6-46ee-be10-bdd9aafcaeb3",
   "metadata": {},
   "source": [
    "# conditionals"
   ]
  },
  {
   "cell_type": "code",
   "execution_count": 55,
   "id": "bc04ca22-626f-457b-9253-27e2b7f14638",
   "metadata": {},
   "outputs": [
    {
     "name": "stdout",
     "output_type": "stream",
     "text": [
      "3.54 is large\n"
     ]
    }
   ],
   "source": [
    "mass = 3.54\n",
    "if mass > 3.0:\n",
    "    print(mass, 'is large')"
   ]
  },
  {
   "cell_type": "code",
   "execution_count": 56,
   "id": "0943a7b2-307e-4f67-aa41-356333bd1b25",
   "metadata": {},
   "outputs": [],
   "source": [
    "mass = 2.07\n",
    "if mass > 3.0:\n",
    "    print(mass, 'is large')"
   ]
  },
  {
   "cell_type": "code",
   "execution_count": 58,
   "id": "7ccdbb13-d7cc-46be-87df-343b873dda71",
   "metadata": {},
   "outputs": [
    {
     "name": "stdout",
     "output_type": "stream",
     "text": [
      "3.54 is large\n",
      "2.07 is small\n",
      "9.22 is large\n",
      "1.86 is small\n",
      "1.71 is small\n"
     ]
    }
   ],
   "source": [
    "masses = [3.54, 2.07, 9.22, 1.86, 1.71]\n",
    "for mass in masses:\n",
    "    if mass > 3.0:\n",
    "        print(mass, 'is large')\n",
    "\n",
    "    else:\n",
    "        print(mass, 'is small')"
   ]
  },
  {
   "cell_type": "code",
   "execution_count": 62,
   "id": "967b462a-9921-4c86-8696-566b998a869f",
   "metadata": {},
   "outputs": [
    {
     "name": "stdout",
     "output_type": "stream",
     "text": [
      "3.54 is large\n",
      "2.07 is small\n",
      "9.22 is HUGE\n",
      "1.86 is small\n",
      "1.71 is small\n",
      "list of huge masses: [9.22]\n",
      "list of small masses: [2.07, 1.86, 1.71]\n"
     ]
    }
   ],
   "source": [
    "huge_masses = []\n",
    "small_masses = []\n",
    "\n",
    "masses = [3.54, 2.07, 9.22, 1.86, 1.71]\n",
    "for mass in masses:\n",
    "    if mass > 9.0:\n",
    "        print(mass, 'is HUGE')\n",
    "        huge_masses.append(mass)\n",
    "    elif mass > 5.0:\n",
    "        print(mass, 'kind of huge')\n",
    "    elif mass > 3.0:\n",
    "        print(mass, 'is large')\n",
    "    else:\n",
    "        print(mass, 'is small')\n",
    "        small_masses.append(mass)\n",
    "        \n",
    "print('list of huge masses:', huge_masses)\n",
    "print('list of small masses:', small_masses)"
   ]
  },
  {
   "cell_type": "code",
   "execution_count": null,
   "id": "f0458ff9-19c4-4ee3-a33b-dc928c495984",
   "metadata": {},
   "outputs": [],
   "source": []
  },
  {
   "cell_type": "code",
   "execution_count": 66,
   "id": "80fc88dc-c8e0-40d1-97c8-c79b4cf9af73",
   "metadata": {},
   "outputs": [
    {
     "name": "stdout",
     "output_type": "stream",
     "text": [
      "fine by me\n"
     ]
    }
   ],
   "source": [
    "grade = 55\n",
    "if grade >= 90:\n",
    "    print('grade is A')\n",
    "elif grade >= 80:\n",
    "    print('grade is B')\n",
    "elif grade >= 70:\n",
    "    print('grade is C')\n",
    "else:\n",
    "    print('fine by me')"
   ]
  },
  {
   "cell_type": "code",
   "execution_count": 69,
   "id": "ec06da24-7810-430a-a38a-ed42c75192bc",
   "metadata": {},
   "outputs": [
    {
     "name": "stdout",
     "output_type": "stream",
     "text": [
      "adjust velocity\n",
      "new velocity 50\n"
     ]
    }
   ],
   "source": [
    "velocity = 10.0\n",
    "if velocity > 20.0:\n",
    "    print('moving too fast')\n",
    "else:\n",
    "    print('adjust velocity')\n",
    "    velocity = 50\n",
    "    \n",
    "print('new velocity', velocity)"
   ]
  },
  {
   "cell_type": "code",
   "execution_count": 73,
   "id": "bde1f0de-f8e4-4b0e-906e-e499082d035f",
   "metadata": {},
   "outputs": [
    {
     "name": "stdout",
     "output_type": "stream",
     "text": [
      "0 : 10.0\n",
      "moving too slow\n",
      "1 : 20.0\n",
      "moving too slow\n",
      "2 : 30.0\n",
      "moving too fast\n",
      "3 : 25.0\n",
      "moving too fast\n",
      "4 : 20.0\n",
      "moving too slow\n",
      "final velocity: 30.0\n"
     ]
    }
   ],
   "source": [
    "velocity = 10.0\n",
    "for i in range(5):\n",
    "    print(i, ':', velocity)\n",
    "    if velocity > 20.0:\n",
    "        print('moving too fast')\n",
    "        velocity = velocity -  5.0\n",
    "    else:\n",
    "        print('moving too slow')\n",
    "        velocity = velocity + 10\n",
    "        \n",
    "print('final velocity:', velocity)"
   ]
  },
  {
   "cell_type": "code",
   "execution_count": 76,
   "id": "a884085c-afbb-466c-aedd-d95fde70be7d",
   "metadata": {},
   "outputs": [
    {
     "name": "stdout",
     "output_type": "stream",
     "text": [
      "4.5\n",
      "9.0\n",
      "13.5\n",
      "18.0\n",
      "22.5\n",
      "27.0\n",
      "31.5\n",
      "36.0\n",
      "40.5\n",
      "45.0\n",
      "49.5\n",
      "54.0\n",
      "58.5\n",
      "63.0\n",
      "67.5\n",
      "72.0\n",
      "76.5\n",
      "81.0\n",
      "85.5\n",
      "90.0\n",
      "94.5\n",
      "99.0\n",
      "103.5\n"
     ]
    }
   ],
   "source": [
    "\n",
    "total = 0\n",
    "while total < 100:\n",
    "    total = total+4.5\n",
    "    \n",
    "    print(total)\n",
    "    "
   ]
  },
  {
   "cell_type": "code",
   "execution_count": null,
   "id": "ab0912e5-5eb8-4dc1-9fc8-ee7dcc69342f",
   "metadata": {},
   "outputs": [],
   "source": []
  }
 ],
 "metadata": {
  "kernelspec": {
   "display_name": "Python 3 (ipykernel)",
   "language": "python",
   "name": "python3"
  },
  "language_info": {
   "codemirror_mode": {
    "name": "ipython",
    "version": 3
   },
   "file_extension": ".py",
   "mimetype": "text/x-python",
   "name": "python",
   "nbconvert_exporter": "python",
   "pygments_lexer": "ipython3",
   "version": "3.9.13"
  }
 },
 "nbformat": 4,
 "nbformat_minor": 5
}
