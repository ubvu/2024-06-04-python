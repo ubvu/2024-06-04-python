{
 "cells": [
  {
   "cell_type": "markdown",
   "id": "f1f2416b",
   "metadata": {},
   "source": [
    "## Analysing data"
   ]
  },
  {
   "cell_type": "markdown",
   "id": "c123a972",
   "metadata": {},
   "source": [
    "### import a library containing the neede functions"
   ]
  },
  {
   "cell_type": "code",
   "execution_count": 1,
   "id": "55f51ac4",
   "metadata": {},
   "outputs": [],
   "source": [
    "import pandas as pd"
   ]
  },
  {
   "cell_type": "markdown",
   "id": "2f6578ed",
   "metadata": {},
   "source": [
    "### read the data"
   ]
  },
  {
   "cell_type": "code",
   "execution_count": 2,
   "id": "a43233af",
   "metadata": {},
   "outputs": [],
   "source": [
    "data = pd.read_csv(\"data/gapminder_gdp_oceania.csv\")"
   ]
  }
 ],
 "metadata": {
  "kernelspec": {
   "display_name": "Python 3 (ipykernel)",
   "language": "python",
   "name": "python3"
  },
  "language_info": {
   "codemirror_mode": {
    "name": "ipython",
    "version": 3
   },
   "file_extension": ".py",
   "mimetype": "text/x-python",
   "name": "python",
   "nbconvert_exporter": "python",
   "pygments_lexer": "ipython3",
   "version": "3.8.5"
  }
 },
 "nbformat": 4,
 "nbformat_minor": 5
}
