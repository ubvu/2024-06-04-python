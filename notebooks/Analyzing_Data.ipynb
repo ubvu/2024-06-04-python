{
 "cells": [
  {
   "cell_type": "markdown",
   "id": "fa976077",
   "metadata": {},
   "source": [
    "## Analysing data"
   ]
  },
  {
   "cell_type": "markdown",
   "id": "aca174b7",
   "metadata": {},
   "source": [
    "### import a library containing the neede functions"
   ]
  },
  {
   "cell_type": "code",
   "execution_count": 1,
   "id": "2c53d328",
   "metadata": {},
   "outputs": [],
   "source": [
    "import pandas as pd"
   ]
  },
  {
   "cell_type": "markdown",
   "id": "02dd3c91",
   "metadata": {},
   "source": [
    "### read the data"
   ]
  },
  {
   "cell_type": "code",
   "execution_count": 2,
   "id": "85c3864b",
   "metadata": {},
   "outputs": [],
   "source": [
    "data = pd.read_csv(\"data/gapminder_gdp_oceania.csv\")"
   ]
  },
  {
   "cell_type": "code",
   "execution_count": 3,
   "id": "1693dc36",
   "metadata": {},
   "outputs": [
    {
     "name": "stdout",
     "output_type": "stream",
     "text": [
      "       country  gdpPercap_1952  gdpPercap_1957  gdpPercap_1962  \\\n",
      "0    Australia     10039.59564     10949.64959     12217.22686   \n",
      "1  New Zealand     10556.57566     12247.39532     13175.67800   \n",
      "\n",
      "   gdpPercap_1967  gdpPercap_1972  gdpPercap_1977  gdpPercap_1982  \\\n",
      "0     14526.12465     16788.62948     18334.19751     19477.00928   \n",
      "1     14463.91893     16046.03728     16233.71770     17632.41040   \n",
      "\n",
      "   gdpPercap_1987  gdpPercap_1992  gdpPercap_1997  gdpPercap_2002  \\\n",
      "0     21888.88903     23424.76683     26997.93657     30687.75473   \n",
      "1     19007.19129     18363.32494     21050.41377     23189.80135   \n",
      "\n",
      "   gdpPercap_2007  \n",
      "0     34435.36744  \n",
      "1     25185.00911  \n"
     ]
    }
   ],
   "source": [
    "print(data)"
   ]
  },
  {
   "cell_type": "code",
   "execution_count": 4,
   "id": "3e03699d",
   "metadata": {},
   "outputs": [
    {
     "name": "stdout",
     "output_type": "stream",
     "text": [
      "<class 'pandas.core.frame.DataFrame'>\n",
      "RangeIndex: 2 entries, 0 to 1\n",
      "Data columns (total 13 columns):\n",
      " #   Column          Non-Null Count  Dtype  \n",
      "---  ------          --------------  -----  \n",
      " 0   country         2 non-null      object \n",
      " 1   gdpPercap_1952  2 non-null      float64\n",
      " 2   gdpPercap_1957  2 non-null      float64\n",
      " 3   gdpPercap_1962  2 non-null      float64\n",
      " 4   gdpPercap_1967  2 non-null      float64\n",
      " 5   gdpPercap_1972  2 non-null      float64\n",
      " 6   gdpPercap_1977  2 non-null      float64\n",
      " 7   gdpPercap_1982  2 non-null      float64\n",
      " 8   gdpPercap_1987  2 non-null      float64\n",
      " 9   gdpPercap_1992  2 non-null      float64\n",
      " 10  gdpPercap_1997  2 non-null      float64\n",
      " 11  gdpPercap_2002  2 non-null      float64\n",
      " 12  gdpPercap_2007  2 non-null      float64\n",
      "dtypes: float64(12), object(1)\n",
      "memory usage: 336.0+ bytes\n"
     ]
    }
   ],
   "source": [
    "data.info()"
   ]
  },
  {
   "cell_type": "markdown",
   "id": "db4fb0e1",
   "metadata": {},
   "source": [
    "### specify the row-names from the first column"
   ]
  },
  {
   "cell_type": "code",
   "execution_count": 6,
   "id": "f4998602",
   "metadata": {},
   "outputs": [],
   "source": [
    " data = pd.read_csv(\"data/gapminder_gdp_oceania.csv\",index_col=\"country\")"
   ]
  },
  {
   "cell_type": "code",
   "execution_count": 7,
   "id": "e518189d",
   "metadata": {},
   "outputs": [
    {
     "name": "stdout",
     "output_type": "stream",
     "text": [
      "<class 'pandas.core.frame.DataFrame'>\n",
      "Index: 2 entries, Australia to New Zealand\n",
      "Data columns (total 12 columns):\n",
      " #   Column          Non-Null Count  Dtype  \n",
      "---  ------          --------------  -----  \n",
      " 0   gdpPercap_1952  2 non-null      float64\n",
      " 1   gdpPercap_1957  2 non-null      float64\n",
      " 2   gdpPercap_1962  2 non-null      float64\n",
      " 3   gdpPercap_1967  2 non-null      float64\n",
      " 4   gdpPercap_1972  2 non-null      float64\n",
      " 5   gdpPercap_1977  2 non-null      float64\n",
      " 6   gdpPercap_1982  2 non-null      float64\n",
      " 7   gdpPercap_1987  2 non-null      float64\n",
      " 8   gdpPercap_1992  2 non-null      float64\n",
      " 9   gdpPercap_1997  2 non-null      float64\n",
      " 10  gdpPercap_2002  2 non-null      float64\n",
      " 11  gdpPercap_2007  2 non-null      float64\n",
      "dtypes: float64(12)\n",
      "memory usage: 208.0+ bytes\n"
     ]
    }
   ],
   "source": [
    "data.info()"
   ]
  },
  {
   "cell_type": "code",
   "execution_count": 8,
   "id": "b1f908e4",
   "metadata": {},
   "outputs": [
    {
     "name": "stdout",
     "output_type": "stream",
     "text": [
      "Index(['gdpPercap_1952', 'gdpPercap_1957', 'gdpPercap_1962', 'gdpPercap_1967',\n",
      "       'gdpPercap_1972', 'gdpPercap_1977', 'gdpPercap_1982', 'gdpPercap_1987',\n",
      "       'gdpPercap_1992', 'gdpPercap_1997', 'gdpPercap_2002', 'gdpPercap_2007'],\n",
      "      dtype='object')\n"
     ]
    }
   ],
   "source": [
    "print(data.columns)"
   ]
  },
  {
   "cell_type": "code",
   "execution_count": 9,
   "id": "feadccf4",
   "metadata": {},
   "outputs": [
    {
     "name": "stdout",
     "output_type": "stream",
     "text": [
      "country           Australia  New Zealand\n",
      "gdpPercap_1952  10039.59564  10556.57566\n",
      "gdpPercap_1957  10949.64959  12247.39532\n",
      "gdpPercap_1962  12217.22686  13175.67800\n",
      "gdpPercap_1967  14526.12465  14463.91893\n",
      "gdpPercap_1972  16788.62948  16046.03728\n",
      "gdpPercap_1977  18334.19751  16233.71770\n",
      "gdpPercap_1982  19477.00928  17632.41040\n",
      "gdpPercap_1987  21888.88903  19007.19129\n",
      "gdpPercap_1992  23424.76683  18363.32494\n",
      "gdpPercap_1997  26997.93657  21050.41377\n",
      "gdpPercap_2002  30687.75473  23189.80135\n",
      "gdpPercap_2007  34435.36744  25185.00911\n"
     ]
    }
   ],
   "source": [
    "print(data.T)"
   ]
  },
  {
   "cell_type": "markdown",
   "id": "1dfc7d7e",
   "metadata": {},
   "source": [
    "### iloc vs loc"
   ]
  },
  {
   "cell_type": "code",
   "execution_count": 18,
   "id": "76c21a4f",
   "metadata": {},
   "outputs": [
    {
     "name": "stdout",
     "output_type": "stream",
     "text": [
      "10039.59564\n"
     ]
    }
   ],
   "source": [
    "print(data.iloc[0,0])"
   ]
  },
  {
   "cell_type": "code",
   "execution_count": 11,
   "id": "4979fd59",
   "metadata": {
    "scrolled": true
   },
   "outputs": [
    {
     "name": "stdout",
     "output_type": "stream",
     "text": [
      "10039.59564\n"
     ]
    }
   ],
   "source": [
    "print(data.loc[\"Australia\",\"gdpPercap_1952\"])"
   ]
  },
  {
   "cell_type": "code",
   "execution_count": 19,
   "id": "a4b5b6b7",
   "metadata": {},
   "outputs": [],
   "source": [
    "data = pd.read_csv(\"data/gapminder_gdp_europe.csv\", index_col=\"country\")"
   ]
  },
  {
   "cell_type": "code",
   "execution_count": 22,
   "id": "68e0018c",
   "metadata": {},
   "outputs": [
    {
     "name": "stdout",
     "output_type": "stream",
     "text": [
      "<class 'pandas.core.frame.DataFrame'>\n",
      "Index: 30 entries, Albania to United Kingdom\n",
      "Data columns (total 12 columns):\n",
      " #   Column          Non-Null Count  Dtype  \n",
      "---  ------          --------------  -----  \n",
      " 0   gdpPercap_1952  30 non-null     float64\n",
      " 1   gdpPercap_1957  30 non-null     float64\n",
      " 2   gdpPercap_1962  30 non-null     float64\n",
      " 3   gdpPercap_1967  30 non-null     float64\n",
      " 4   gdpPercap_1972  30 non-null     float64\n",
      " 5   gdpPercap_1977  30 non-null     float64\n",
      " 6   gdpPercap_1982  30 non-null     float64\n",
      " 7   gdpPercap_1987  30 non-null     float64\n",
      " 8   gdpPercap_1992  30 non-null     float64\n",
      " 9   gdpPercap_1997  30 non-null     float64\n",
      " 10  gdpPercap_2002  30 non-null     float64\n",
      " 11  gdpPercap_2007  30 non-null     float64\n",
      "dtypes: float64(12)\n",
      "memory usage: 3.0+ KB\n"
     ]
    }
   ],
   "source": [
    "data.info()"
   ]
  },
  {
   "cell_type": "code",
   "execution_count": 23,
   "id": "6becaa71",
   "metadata": {},
   "outputs": [
    {
     "data": {
      "text/html": [
       "<div>\n",
       "<style scoped>\n",
       "    .dataframe tbody tr th:only-of-type {\n",
       "        vertical-align: middle;\n",
       "    }\n",
       "\n",
       "    .dataframe tbody tr th {\n",
       "        vertical-align: top;\n",
       "    }\n",
       "\n",
       "    .dataframe thead th {\n",
       "        text-align: right;\n",
       "    }\n",
       "</style>\n",
       "<table border=\"1\" class=\"dataframe\">\n",
       "  <thead>\n",
       "    <tr style=\"text-align: right;\">\n",
       "      <th></th>\n",
       "      <th>gdpPercap_1952</th>\n",
       "      <th>gdpPercap_1957</th>\n",
       "      <th>gdpPercap_1962</th>\n",
       "      <th>gdpPercap_1967</th>\n",
       "      <th>gdpPercap_1972</th>\n",
       "      <th>gdpPercap_1977</th>\n",
       "      <th>gdpPercap_1982</th>\n",
       "      <th>gdpPercap_1987</th>\n",
       "      <th>gdpPercap_1992</th>\n",
       "      <th>gdpPercap_1997</th>\n",
       "      <th>gdpPercap_2002</th>\n",
       "      <th>gdpPercap_2007</th>\n",
       "    </tr>\n",
       "    <tr>\n",
       "      <th>country</th>\n",
       "      <th></th>\n",
       "      <th></th>\n",
       "      <th></th>\n",
       "      <th></th>\n",
       "      <th></th>\n",
       "      <th></th>\n",
       "      <th></th>\n",
       "      <th></th>\n",
       "      <th></th>\n",
       "      <th></th>\n",
       "      <th></th>\n",
       "      <th></th>\n",
       "    </tr>\n",
       "  </thead>\n",
       "  <tbody>\n",
       "    <tr>\n",
       "      <th>Albania</th>\n",
       "      <td>1601.056136</td>\n",
       "      <td>1942.284244</td>\n",
       "      <td>2312.888958</td>\n",
       "      <td>2760.196931</td>\n",
       "      <td>3313.422188</td>\n",
       "      <td>3533.003910</td>\n",
       "      <td>3630.880722</td>\n",
       "      <td>3738.932735</td>\n",
       "      <td>2497.437901</td>\n",
       "      <td>3193.054604</td>\n",
       "      <td>4604.211737</td>\n",
       "      <td>5937.029526</td>\n",
       "    </tr>\n",
       "    <tr>\n",
       "      <th>Austria</th>\n",
       "      <td>6137.076492</td>\n",
       "      <td>8842.598030</td>\n",
       "      <td>10750.721110</td>\n",
       "      <td>12834.602400</td>\n",
       "      <td>16661.625600</td>\n",
       "      <td>19749.422300</td>\n",
       "      <td>21597.083620</td>\n",
       "      <td>23687.826070</td>\n",
       "      <td>27042.018680</td>\n",
       "      <td>29095.920660</td>\n",
       "      <td>32417.607690</td>\n",
       "      <td>36126.492700</td>\n",
       "    </tr>\n",
       "    <tr>\n",
       "      <th>Belgium</th>\n",
       "      <td>8343.105127</td>\n",
       "      <td>9714.960623</td>\n",
       "      <td>10991.206760</td>\n",
       "      <td>13149.041190</td>\n",
       "      <td>16672.143560</td>\n",
       "      <td>19117.974480</td>\n",
       "      <td>20979.845890</td>\n",
       "      <td>22525.563080</td>\n",
       "      <td>25575.570690</td>\n",
       "      <td>27561.196630</td>\n",
       "      <td>30485.883750</td>\n",
       "      <td>33692.605080</td>\n",
       "    </tr>\n",
       "    <tr>\n",
       "      <th>Bosnia and Herzegovina</th>\n",
       "      <td>973.533195</td>\n",
       "      <td>1353.989176</td>\n",
       "      <td>1709.683679</td>\n",
       "      <td>2172.352423</td>\n",
       "      <td>2860.169750</td>\n",
       "      <td>3528.481305</td>\n",
       "      <td>4126.613157</td>\n",
       "      <td>4314.114757</td>\n",
       "      <td>2546.781445</td>\n",
       "      <td>4766.355904</td>\n",
       "      <td>6018.975239</td>\n",
       "      <td>7446.298803</td>\n",
       "    </tr>\n",
       "    <tr>\n",
       "      <th>Bulgaria</th>\n",
       "      <td>2444.286648</td>\n",
       "      <td>3008.670727</td>\n",
       "      <td>4254.337839</td>\n",
       "      <td>5577.002800</td>\n",
       "      <td>6597.494398</td>\n",
       "      <td>7612.240438</td>\n",
       "      <td>8224.191647</td>\n",
       "      <td>8239.854824</td>\n",
       "      <td>6302.623438</td>\n",
       "      <td>5970.388760</td>\n",
       "      <td>7696.777725</td>\n",
       "      <td>10680.792820</td>\n",
       "    </tr>\n",
       "  </tbody>\n",
       "</table>\n",
       "</div>"
      ],
      "text/plain": [
       "                        gdpPercap_1952  gdpPercap_1957  gdpPercap_1962  \\\n",
       "country                                                                  \n",
       "Albania                    1601.056136     1942.284244     2312.888958   \n",
       "Austria                    6137.076492     8842.598030    10750.721110   \n",
       "Belgium                    8343.105127     9714.960623    10991.206760   \n",
       "Bosnia and Herzegovina      973.533195     1353.989176     1709.683679   \n",
       "Bulgaria                   2444.286648     3008.670727     4254.337839   \n",
       "\n",
       "                        gdpPercap_1967  gdpPercap_1972  gdpPercap_1977  \\\n",
       "country                                                                  \n",
       "Albania                    2760.196931     3313.422188     3533.003910   \n",
       "Austria                   12834.602400    16661.625600    19749.422300   \n",
       "Belgium                   13149.041190    16672.143560    19117.974480   \n",
       "Bosnia and Herzegovina     2172.352423     2860.169750     3528.481305   \n",
       "Bulgaria                   5577.002800     6597.494398     7612.240438   \n",
       "\n",
       "                        gdpPercap_1982  gdpPercap_1987  gdpPercap_1992  \\\n",
       "country                                                                  \n",
       "Albania                    3630.880722     3738.932735     2497.437901   \n",
       "Austria                   21597.083620    23687.826070    27042.018680   \n",
       "Belgium                   20979.845890    22525.563080    25575.570690   \n",
       "Bosnia and Herzegovina     4126.613157     4314.114757     2546.781445   \n",
       "Bulgaria                   8224.191647     8239.854824     6302.623438   \n",
       "\n",
       "                        gdpPercap_1997  gdpPercap_2002  gdpPercap_2007  \n",
       "country                                                                 \n",
       "Albania                    3193.054604     4604.211737     5937.029526  \n",
       "Austria                   29095.920660    32417.607690    36126.492700  \n",
       "Belgium                   27561.196630    30485.883750    33692.605080  \n",
       "Bosnia and Herzegovina     4766.355904     6018.975239     7446.298803  \n",
       "Bulgaria                   5970.388760     7696.777725    10680.792820  "
      ]
     },
     "execution_count": 23,
     "metadata": {},
     "output_type": "execute_result"
    }
   ],
   "source": [
    "data.head()"
   ]
  },
  {
   "cell_type": "code",
   "execution_count": 24,
   "id": "83c9f03c",
   "metadata": {},
   "outputs": [
    {
     "data": {
      "text/html": [
       "<div>\n",
       "<style scoped>\n",
       "    .dataframe tbody tr th:only-of-type {\n",
       "        vertical-align: middle;\n",
       "    }\n",
       "\n",
       "    .dataframe tbody tr th {\n",
       "        vertical-align: top;\n",
       "    }\n",
       "\n",
       "    .dataframe thead th {\n",
       "        text-align: right;\n",
       "    }\n",
       "</style>\n",
       "<table border=\"1\" class=\"dataframe\">\n",
       "  <thead>\n",
       "    <tr style=\"text-align: right;\">\n",
       "      <th></th>\n",
       "      <th>gdpPercap_1952</th>\n",
       "      <th>gdpPercap_1957</th>\n",
       "      <th>gdpPercap_1962</th>\n",
       "      <th>gdpPercap_1967</th>\n",
       "      <th>gdpPercap_1972</th>\n",
       "      <th>gdpPercap_1977</th>\n",
       "      <th>gdpPercap_1982</th>\n",
       "      <th>gdpPercap_1987</th>\n",
       "      <th>gdpPercap_1992</th>\n",
       "      <th>gdpPercap_1997</th>\n",
       "      <th>gdpPercap_2002</th>\n",
       "      <th>gdpPercap_2007</th>\n",
       "    </tr>\n",
       "    <tr>\n",
       "      <th>country</th>\n",
       "      <th></th>\n",
       "      <th></th>\n",
       "      <th></th>\n",
       "      <th></th>\n",
       "      <th></th>\n",
       "      <th></th>\n",
       "      <th></th>\n",
       "      <th></th>\n",
       "      <th></th>\n",
       "      <th></th>\n",
       "      <th></th>\n",
       "      <th></th>\n",
       "    </tr>\n",
       "  </thead>\n",
       "  <tbody>\n",
       "    <tr>\n",
       "      <th>Spain</th>\n",
       "      <td>3834.034742</td>\n",
       "      <td>4564.802410</td>\n",
       "      <td>5693.843879</td>\n",
       "      <td>7993.512294</td>\n",
       "      <td>10638.75131</td>\n",
       "      <td>13236.921170</td>\n",
       "      <td>13926.169970</td>\n",
       "      <td>15764.983130</td>\n",
       "      <td>18603.064520</td>\n",
       "      <td>20445.298960</td>\n",
       "      <td>24835.471660</td>\n",
       "      <td>28821.063700</td>\n",
       "    </tr>\n",
       "    <tr>\n",
       "      <th>Sweden</th>\n",
       "      <td>8527.844662</td>\n",
       "      <td>9911.878226</td>\n",
       "      <td>12329.441920</td>\n",
       "      <td>15258.296970</td>\n",
       "      <td>17832.02464</td>\n",
       "      <td>18855.725210</td>\n",
       "      <td>20667.381250</td>\n",
       "      <td>23586.929270</td>\n",
       "      <td>23880.016830</td>\n",
       "      <td>25266.594990</td>\n",
       "      <td>29341.630930</td>\n",
       "      <td>33859.748350</td>\n",
       "    </tr>\n",
       "    <tr>\n",
       "      <th>Switzerland</th>\n",
       "      <td>14734.232750</td>\n",
       "      <td>17909.489730</td>\n",
       "      <td>20431.092700</td>\n",
       "      <td>22966.144320</td>\n",
       "      <td>27195.11304</td>\n",
       "      <td>26982.290520</td>\n",
       "      <td>28397.715120</td>\n",
       "      <td>30281.704590</td>\n",
       "      <td>31871.530300</td>\n",
       "      <td>32135.323010</td>\n",
       "      <td>34480.957710</td>\n",
       "      <td>37506.419070</td>\n",
       "    </tr>\n",
       "    <tr>\n",
       "      <th>Turkey</th>\n",
       "      <td>1969.100980</td>\n",
       "      <td>2218.754257</td>\n",
       "      <td>2322.869908</td>\n",
       "      <td>2826.356387</td>\n",
       "      <td>3450.69638</td>\n",
       "      <td>4269.122326</td>\n",
       "      <td>4241.356344</td>\n",
       "      <td>5089.043686</td>\n",
       "      <td>5678.348271</td>\n",
       "      <td>6601.429915</td>\n",
       "      <td>6508.085718</td>\n",
       "      <td>8458.276384</td>\n",
       "    </tr>\n",
       "    <tr>\n",
       "      <th>United Kingdom</th>\n",
       "      <td>9979.508487</td>\n",
       "      <td>11283.177950</td>\n",
       "      <td>12477.177070</td>\n",
       "      <td>14142.850890</td>\n",
       "      <td>15895.11641</td>\n",
       "      <td>17428.748460</td>\n",
       "      <td>18232.424520</td>\n",
       "      <td>21664.787670</td>\n",
       "      <td>22705.092540</td>\n",
       "      <td>26074.531360</td>\n",
       "      <td>29478.999190</td>\n",
       "      <td>33203.261280</td>\n",
       "    </tr>\n",
       "  </tbody>\n",
       "</table>\n",
       "</div>"
      ],
      "text/plain": [
       "                gdpPercap_1952  gdpPercap_1957  gdpPercap_1962  \\\n",
       "country                                                          \n",
       "Spain              3834.034742     4564.802410     5693.843879   \n",
       "Sweden             8527.844662     9911.878226    12329.441920   \n",
       "Switzerland       14734.232750    17909.489730    20431.092700   \n",
       "Turkey             1969.100980     2218.754257     2322.869908   \n",
       "United Kingdom     9979.508487    11283.177950    12477.177070   \n",
       "\n",
       "                gdpPercap_1967  gdpPercap_1972  gdpPercap_1977  \\\n",
       "country                                                          \n",
       "Spain              7993.512294     10638.75131    13236.921170   \n",
       "Sweden            15258.296970     17832.02464    18855.725210   \n",
       "Switzerland       22966.144320     27195.11304    26982.290520   \n",
       "Turkey             2826.356387      3450.69638     4269.122326   \n",
       "United Kingdom    14142.850890     15895.11641    17428.748460   \n",
       "\n",
       "                gdpPercap_1982  gdpPercap_1987  gdpPercap_1992  \\\n",
       "country                                                          \n",
       "Spain             13926.169970    15764.983130    18603.064520   \n",
       "Sweden            20667.381250    23586.929270    23880.016830   \n",
       "Switzerland       28397.715120    30281.704590    31871.530300   \n",
       "Turkey             4241.356344     5089.043686     5678.348271   \n",
       "United Kingdom    18232.424520    21664.787670    22705.092540   \n",
       "\n",
       "                gdpPercap_1997  gdpPercap_2002  gdpPercap_2007  \n",
       "country                                                         \n",
       "Spain             20445.298960    24835.471660    28821.063700  \n",
       "Sweden            25266.594990    29341.630930    33859.748350  \n",
       "Switzerland       32135.323010    34480.957710    37506.419070  \n",
       "Turkey             6601.429915     6508.085718     8458.276384  \n",
       "United Kingdom    26074.531360    29478.999190    33203.261280  "
      ]
     },
     "execution_count": 24,
     "metadata": {},
     "output_type": "execute_result"
    }
   ],
   "source": [
    "data.tail()"
   ]
  },
  {
   "cell_type": "code",
   "execution_count": 25,
   "id": "464dbe8f",
   "metadata": {},
   "outputs": [
    {
     "name": "stdout",
     "output_type": "stream",
     "text": [
      "                        gdpPercap_1972  gdpPercap_1977  gdpPercap_1982  \\\n",
      "country                                                                  \n",
      "Belgium                   16672.143560    19117.974480    20979.845890   \n",
      "Bosnia and Herzegovina     2860.169750     3528.481305     4126.613157   \n",
      "Bulgaria                   6597.494398     7612.240438     8224.191647   \n",
      "Croatia                    9164.090127    11305.385170    13221.821840   \n",
      "\n",
      "                        gdpPercap_1987  gdpPercap_1992  \n",
      "country                                                 \n",
      "Belgium                   22525.563080    25575.570690  \n",
      "Bosnia and Herzegovina     4314.114757     2546.781445  \n",
      "Bulgaria                   8239.854824     6302.623438  \n",
      "Croatia                   13822.583940     8447.794873  \n"
     ]
    }
   ],
   "source": [
    "print(data.iloc[2:6,4:9])"
   ]
  },
  {
   "cell_type": "code",
   "execution_count": 27,
   "id": "bb83b24e",
   "metadata": {},
   "outputs": [
    {
     "name": "stdout",
     "output_type": "stream",
     "text": [
      "                        gdpPercap_1972  gdpPercap_1977  gdpPercap_1982  \\\n",
      "country                                                                  \n",
      "Belgium                   16672.143560    19117.974480    20979.845890   \n",
      "Bosnia and Herzegovina     2860.169750     3528.481305     4126.613157   \n",
      "Bulgaria                   6597.494398     7612.240438     8224.191647   \n",
      "Croatia                    9164.090127    11305.385170    13221.821840   \n",
      "\n",
      "                        gdpPercap_1987  gdpPercap_1992  \n",
      "country                                                 \n",
      "Belgium                   22525.563080    25575.570690  \n",
      "Bosnia and Herzegovina     4314.114757     2546.781445  \n",
      "Bulgaria                   8239.854824     6302.623438  \n",
      "Croatia                   13822.583940     8447.794873  \n"
     ]
    }
   ],
   "source": [
    "print(data.loc[\"Belgium\":\"Croatia\",\"gdpPercap_1972\":\"gdpPercap_1992\"])"
   ]
  },
  {
   "cell_type": "code",
   "execution_count": 28,
   "id": "42a321d0",
   "metadata": {},
   "outputs": [
    {
     "name": "stdout",
     "output_type": "stream",
     "text": [
      "gdpPercap_1972    16672.14356\n",
      "gdpPercap_1977    19117.97448\n",
      "gdpPercap_1982    20979.84589\n",
      "gdpPercap_1987    22525.56308\n",
      "gdpPercap_1992    25575.57069\n",
      "dtype: float64\n"
     ]
    }
   ],
   "source": [
    "print(data.loc[\"Belgium\":\"Croatia\",\"gdpPercap_1972\":\"gdpPercap_1992\"].max())"
   ]
  },
  {
   "cell_type": "code",
   "execution_count": 34,
   "id": "cb8f5c54",
   "metadata": {},
   "outputs": [
    {
     "name": "stdout",
     "output_type": "stream",
     "text": [
      "country\n",
      "Belgium                   20974.219540\n",
      "Bosnia and Herzegovina     3475.232083\n",
      "Bulgaria                   7395.280949\n",
      "Croatia                   11192.335190\n",
      "dtype: float64\n"
     ]
    }
   ],
   "source": [
    "print(data.T.loc[\"gdpPercap_1972\":\"gdpPercap_1992\",\"Belgium\":\"Croatia\"].mean())"
   ]
  },
  {
   "cell_type": "code",
   "execution_count": 35,
   "id": "53599559",
   "metadata": {},
   "outputs": [],
   "source": [
    "import matplotlib.pyplot as plt"
   ]
  },
  {
   "cell_type": "code",
   "execution_count": 37,
   "id": "9d48bdf4",
   "metadata": {},
   "outputs": [
    {
     "data": {
      "text/plain": [
       "Text(0, 0.5, 'position')"
      ]
     },
     "execution_count": 37,
     "metadata": {},
     "output_type": "execute_result"
    },
    {
     "data": {
      "image/png": "[encoded data removed]",
      "text/plain": [
       "<Figure size 432x288 with 1 Axes>"
      ]
     },
     "metadata": {
      "needs_background": "light"
     },
     "output_type": "display_data"
    }
   ],
   "source": [
    "time = [0,1,2,3]\n",
    "position = [0, 100, 200, 300]\n",
    "\n",
    "plt.plot(time, position)\n",
    "plt.xlabel(\"Time (hr)\")\n",
    "plt.ylabel(\"position\")"
   ]
  },
  {
   "cell_type": "code",
   "execution_count": 38,
   "id": "fd54ce11",
   "metadata": {},
   "outputs": [],
   "source": [
    "data = pd.read_csv(\"data/gapminder_gdp_oceania.csv\", index_col=\"country\")"
   ]
  },
  {
   "cell_type": "code",
   "execution_count": 40,
   "id": "03f83ea9",
   "metadata": {},
   "outputs": [
    {
     "name": "stdout",
     "output_type": "stream",
     "text": [
      "Index(['gdpPercap_1952', 'gdpPercap_1957', 'gdpPercap_1962', 'gdpPercap_1967',\n",
      "       'gdpPercap_1972', 'gdpPercap_1977', 'gdpPercap_1982', 'gdpPercap_1987',\n",
      "       'gdpPercap_1992', 'gdpPercap_1997', 'gdpPercap_2002', 'gdpPercap_2007'],\n",
      "      dtype='object')\n"
     ]
    }
   ],
   "source": [
    "print(data.columns)"
   ]
  },
  {
   "cell_type": "code",
   "execution_count": 42,
   "id": "4139309c",
   "metadata": {},
   "outputs": [
    {
     "name": "stdout",
     "output_type": "stream",
     "text": [
      "Index(['1952', '1957', '1962', '1967', '1972', '1977', '1982', '1987', '1992',\n",
      "       '1997', '2002', '2007'],\n",
      "      dtype='object')\n",
      "Int64Index([1952, 1957, 1962, 1967, 1972, 1977, 1982, 1987, 1992, 1997, 2002,\n",
      "            2007],\n",
      "           dtype='int64')\n"
     ]
    }
   ],
   "source": [
    "years = data.columns.str.strip(\"gdpPercap_\")\n",
    "print(years)\n",
    "\n",
    "data.columns = years.astype(int)\n",
    "print(data.columns)"
   ]
  },
  {
   "cell_type": "code",
   "execution_count": 43,
   "id": "bd11903b",
   "metadata": {},
   "outputs": [
    {
     "data": {
      "text/plain": [
       "<AxesSubplot:>"
      ]
     },
     "execution_count": 43,
     "metadata": {},
     "output_type": "execute_result"
    },
    {
     "data": {
      "image/png": "[encoded data removed]",
      "text/plain": [
       "<Figure size 432x288 with 1 Axes>"
      ]
     },
     "metadata": {
      "needs_background": "light"
     },
     "output_type": "display_data"
    }
   ],
   "source": [
    "data.loc[\"Australia\"].plot()"
   ]
  },
  {
   "cell_type": "code",
   "execution_count": 44,
   "id": "def1923a",
   "metadata": {},
   "outputs": [
    {
     "data": {
      "text/plain": [
       "<AxesSubplot:xlabel='country'>"
      ]
     },
     "execution_count": 44,
     "metadata": {},
     "output_type": "execute_result"
    },
    {
     "data": {
      "image/png": "[encoded data removed]",
      "text/plain": [
       "<Figure size 432x288 with 1 Axes>"
      ]
     },
     "metadata": {
      "needs_background": "light"
     },
     "output_type": "display_data"
    }
   ],
   "source": [
    "data.T.plot()"
   ]
  }
 ],
 "metadata": {
  "kernelspec": {
   "display_name": "Python 3 (ipykernel)",
   "language": "python",
   "name": "python3"
  },
  "language_info": {
   "codemirror_mode": {
    "name": "ipython",
    "version": 3
   },
   "file_extension": ".py",
   "mimetype": "text/x-python",
   "name": "python",
   "nbconvert_exporter": "python",
   "pygments_lexer": "ipython3",
   "version": "3.8.5"
  }
 },
 "nbformat": 4,
 "nbformat_minor": 5
}
