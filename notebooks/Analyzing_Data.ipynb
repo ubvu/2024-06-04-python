{
 "cells": [
  {
   "cell_type": "markdown",
   "id": "2998581e",
   "metadata": {},
   "source": [
    "## Analysing data"
   ]
  },
  {
   "cell_type": "markdown",
   "id": "0b8821f9",
   "metadata": {},
   "source": [
    "### import a library containing the neede functions"
   ]
  },
  {
   "cell_type": "code",
   "execution_count": 1,
   "id": "3aff7ab0",
   "metadata": {},
   "outputs": [],
   "source": [
    "import pandas as pd"
   ]
  },
  {
   "cell_type": "markdown",
   "id": "998b5a4a",
   "metadata": {},
   "source": [
    "### read the data"
   ]
  },
  {
   "cell_type": "code",
   "execution_count": 2,
   "id": "86d102c9",
   "metadata": {},
   "outputs": [],
   "source": [
    "data = pd.read_csv(\"data/gapminder_gdp_oceania.csv\")"
   ]
  },
  {
   "cell_type": "code",
   "execution_count": 3,
   "id": "dc4180b9",
   "metadata": {},
   "outputs": [
    {
     "name": "stdout",
     "output_type": "stream",
     "text": [
      "       country  gdpPercap_1952  gdpPercap_1957  gdpPercap_1962  \\\n",
      "0    Australia     10039.59564     10949.64959     12217.22686   \n",
      "1  New Zealand     10556.57566     12247.39532     13175.67800   \n",
      "\n",
      "   gdpPercap_1967  gdpPercap_1972  gdpPercap_1977  gdpPercap_1982  \\\n",
      "0     14526.12465     16788.62948     18334.19751     19477.00928   \n",
      "1     14463.91893     16046.03728     16233.71770     17632.41040   \n",
      "\n",
      "   gdpPercap_1987  gdpPercap_1992  gdpPercap_1997  gdpPercap_2002  \\\n",
      "0     21888.88903     23424.76683     26997.93657     30687.75473   \n",
      "1     19007.19129     18363.32494     21050.41377     23189.80135   \n",
      "\n",
      "   gdpPercap_2007  \n",
      "0     34435.36744  \n",
      "1     25185.00911  \n"
     ]
    }
   ],
   "source": [
    "print(data)"
   ]
  },
  {
   "cell_type": "code",
   "execution_count": 4,
   "id": "67733e99",
   "metadata": {},
   "outputs": [
    {
     "name": "stdout",
     "output_type": "stream",
     "text": [
      "<class 'pandas.core.frame.DataFrame'>\n",
      "RangeIndex: 2 entries, 0 to 1\n",
      "Data columns (total 13 columns):\n",
      " #   Column          Non-Null Count  Dtype  \n",
      "---  ------          --------------  -----  \n",
      " 0   country         2 non-null      object \n",
      " 1   gdpPercap_1952  2 non-null      float64\n",
      " 2   gdpPercap_1957  2 non-null      float64\n",
      " 3   gdpPercap_1962  2 non-null      float64\n",
      " 4   gdpPercap_1967  2 non-null      float64\n",
      " 5   gdpPercap_1972  2 non-null      float64\n",
      " 6   gdpPercap_1977  2 non-null      float64\n",
      " 7   gdpPercap_1982  2 non-null      float64\n",
      " 8   gdpPercap_1987  2 non-null      float64\n",
      " 9   gdpPercap_1992  2 non-null      float64\n",
      " 10  gdpPercap_1997  2 non-null      float64\n",
      " 11  gdpPercap_2002  2 non-null      float64\n",
      " 12  gdpPercap_2007  2 non-null      float64\n",
      "dtypes: float64(12), object(1)\n",
      "memory usage: 336.0+ bytes\n"
     ]
    }
   ],
   "source": [
    "data.info()"
   ]
  },
  {
   "cell_type": "code",
   "execution_count": null,
   "id": "a525d4dc",
   "metadata": {},
   "outputs": [],
   "source": [
    " pd.read_csv(\"data/gapminder_gdp_oceania.csv\",index_col=\"country\")"
   ]
  }
 ],
 "metadata": {
  "kernelspec": {
   "display_name": "Python 3 (ipykernel)",
   "language": "python",
   "name": "python3"
  },
  "language_info": {
   "codemirror_mode": {
    "name": "ipython",
    "version": 3
   },
   "file_extension": ".py",
   "mimetype": "text/x-python",
   "name": "python",
   "nbconvert_exporter": "python",
   "pygments_lexer": "ipython3",
   "version": "3.8.5"
  }
 },
 "nbformat": 4,
 "nbformat_minor": 5
}
