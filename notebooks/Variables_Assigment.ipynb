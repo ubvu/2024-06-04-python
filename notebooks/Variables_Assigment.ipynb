{
 "cells": [
  {
   "cell_type": "markdown",
   "id": "dc99d056-3326-4076-ab8c-a856736a622b",
   "metadata": {},
   "source": [
    "# Variables"
   ]
  },
  {
   "cell_type": "code",
   "execution_count": 1,
   "id": "c133325a-e1cf-49b7-9fd8-67980df8288c",
   "metadata": {},
   "outputs": [],
   "source": [
    "cup = 5"
   ]
  },
  {
   "cell_type": "code",
   "execution_count": 2,
   "id": "d1fd9bf1-c0bf-4924-b128-f458d70f15ec",
   "metadata": {},
   "outputs": [],
   "source": [
    "age = 42\n",
    "first_name = \"Ahmed\""
   ]
  },
  {
   "cell_type": "code",
   "execution_count": 3,
   "id": "e83a498b-d64f-4e47-8850-3679b27907fa",
   "metadata": {},
   "outputs": [
    {
     "name": "stdout",
     "output_type": "stream",
     "text": [
      "Ahmed is 42 years old\n"
     ]
    }
   ],
   "source": [
    "print(first_name, 'is', age, 'years old')"
   ]
  },
  {
   "cell_type": "code",
   "execution_count": null,
   "id": "689b7d88-bb0c-4e3f-9c7b-0a8445d4dd6f",
   "metadata": {},
   "outputs": [],
   "source": []
  }
 ],
 "metadata": {
  "kernelspec": {
   "display_name": "Python 3 (ipykernel)",
   "language": "python",
   "name": "python3"
  },
  "language_info": {
   "codemirror_mode": {
    "name": "ipython",
    "version": 3
   },
   "file_extension": ".py",
   "mimetype": "text/x-python",
   "name": "python",
   "nbconvert_exporter": "python",
   "pygments_lexer": "ipython3",
   "version": "3.9.12"
  }
 },
 "nbformat": 4,
 "nbformat_minor": 5
}
