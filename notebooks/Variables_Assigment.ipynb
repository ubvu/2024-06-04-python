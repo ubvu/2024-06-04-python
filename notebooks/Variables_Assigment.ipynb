{
 "cells": [
  {
   "cell_type": "markdown",
   "id": "dc99d056-3326-4076-ab8c-a856736a622b",
   "metadata": {},
   "source": [
    "# Variables"
   ]
  },
  {
   "cell_type": "raw",
   "id": "eba9a9d1-1496-453b-8eaa-f644510c6b07",
   "metadata": {},
   "source": [
    "cup = 5"
   ]
  },
  {
   "cell_type": "code",
   "execution_count": 2,
   "id": "d1fd9bf1-c0bf-4924-b128-f458d70f15ec",
   "metadata": {},
   "outputs": [],
   "source": [
    "age = 42\n",
    "first_name = \"Ahmed\""
   ]
  },
  {
   "cell_type": "code",
   "execution_count": 3,
   "id": "e83a498b-d64f-4e47-8850-3679b27907fa",
   "metadata": {},
   "outputs": [
    {
     "name": "stdout",
     "output_type": "stream",
     "text": [
      "Ahmed is 42 years old\n"
     ]
    }
   ],
   "source": [
    "print(first_name, 'is', age, 'years old')"
   ]
  },
  {
   "cell_type": "code",
   "execution_count": 4,
   "id": "689b7d88-bb0c-4e3f-9c7b-0a8445d4dd6f",
   "metadata": {},
   "outputs": [
    {
     "name": "stdout",
     "output_type": "stream",
     "text": [
      "That's great!\n"
     ]
    }
   ],
   "source": [
    "print(\"That's great!\")"
   ]
  },
  {
   "cell_type": "code",
   "execution_count": 5,
   "id": "fcd5945d-b0f5-40c8-b072-61b96fdb4dbe",
   "metadata": {},
   "outputs": [
    {
     "ename": "SyntaxError",
     "evalue": "invalid syntax (1429512477.py, line 1)",
     "output_type": "error",
     "traceback": [
      "\u001b[1;36m  Input \u001b[1;32mIn [5]\u001b[1;36m\u001b[0m\n\u001b[1;33m    print('That's great!')\u001b[0m\n\u001b[1;37m                ^\u001b[0m\n\u001b[1;31mSyntaxError\u001b[0m\u001b[1;31m:\u001b[0m invalid syntax\n"
     ]
    }
   ],
   "source": [
    "print('That's great!')"
   ]
  },
  {
   "cell_type": "code",
   "execution_count": 6,
   "id": "41910da6-8ef9-4300-b9ed-56b2607a6130",
   "metadata": {},
   "outputs": [
    {
     "ename": "NameError",
     "evalue": "name 'last_name' is not defined",
     "output_type": "error",
     "traceback": [
      "\u001b[1;31m---------------------------------------------------------------------------\u001b[0m",
      "\u001b[1;31mNameError\u001b[0m                                 Traceback (most recent call last)",
      "Input \u001b[1;32mIn [6]\u001b[0m, in \u001b[0;36m<cell line: 1>\u001b[1;34m()\u001b[0m\n\u001b[1;32m----> 1\u001b[0m \u001b[38;5;28mprint\u001b[39m(\u001b[43mlast_name\u001b[49m)\n",
      "\u001b[1;31mNameError\u001b[0m: name 'last_name' is not defined"
     ]
    }
   ],
   "source": [
    "print(last_name)"
   ]
  },
  {
   "cell_type": "code",
   "execution_count": 7,
   "id": "ccd85180-ed6f-4bfb-ae42-bde7d25ddf2e",
   "metadata": {},
   "outputs": [
    {
     "name": "stdout",
     "output_type": "stream",
     "text": [
      "Age is three years: 45\n"
     ]
    }
   ],
   "source": [
    "age = age + 3\n",
    "print('Age is three years:', age)"
   ]
  },
  {
   "cell_type": "code",
   "execution_count": 8,
   "id": "55d60460-2fec-4799-942c-c2b8b47e2953",
   "metadata": {},
   "outputs": [
    {
     "name": "stdout",
     "output_type": "stream",
     "text": [
      "helium\n"
     ]
    }
   ],
   "source": [
    "atom_name = 'helium'\n",
    "print(atom_name)"
   ]
  },
  {
   "cell_type": "code",
   "execution_count": 9,
   "id": "4fe0236e-dd07-4bf8-8661-e3ca3be74bca",
   "metadata": {},
   "outputs": [
    {
     "name": "stdout",
     "output_type": "stream",
     "text": [
      "h\n"
     ]
    }
   ],
   "source": [
    "print(atom_name[0])"
   ]
  },
  {
   "cell_type": "code",
   "execution_count": 10,
   "id": "979fbe27-2e98-4775-a07d-e8b8109707ec",
   "metadata": {},
   "outputs": [
    {
     "name": "stdout",
     "output_type": "stream",
     "text": [
      "l\n"
     ]
    }
   ],
   "source": [
    "print(atom_name[2])"
   ]
  },
  {
   "cell_type": "code",
   "execution_count": 11,
   "id": "b33afe5e-aedf-4c68-8164-1551782a6846",
   "metadata": {},
   "outputs": [
    {
     "name": "stdout",
     "output_type": "stream",
     "text": [
      "6\n"
     ]
    }
   ],
   "source": [
    "print(len(atom_name))"
   ]
  },
  {
   "cell_type": "code",
   "execution_count": 12,
   "id": "998f4bde-5ab9-47e5-b46f-593291f9f3b9",
   "metadata": {},
   "outputs": [
    {
     "name": "stdout",
     "output_type": "stream",
     "text": [
      "6\n"
     ]
    }
   ],
   "source": [
    "print(len('helium'))"
   ]
  },
  {
   "cell_type": "code",
   "execution_count": 13,
   "id": "a0163171-0ebf-4298-aca0-1370d95b8ffe",
   "metadata": {},
   "outputs": [
    {
     "name": "stdout",
     "output_type": "stream",
     "text": [
      "he\n"
     ]
    }
   ],
   "source": [
    "print(atom_name[0:2])"
   ]
  },
  {
   "cell_type": "code",
   "execution_count": 14,
   "id": "3bf80e2d-cd20-4eac-9720-061731593ae6",
   "metadata": {},
   "outputs": [
    {
     "name": "stdout",
     "output_type": "stream",
     "text": [
      "hel\n"
     ]
    }
   ],
   "source": [
    "print(atom_name[0:3])"
   ]
  },
  {
   "cell_type": "code",
   "execution_count": 15,
   "id": "0c893cec-4327-4246-82f7-b50da26ff3b6",
   "metadata": {},
   "outputs": [
    {
     "name": "stdout",
     "output_type": "stream",
     "text": [
      "h l\n"
     ]
    }
   ],
   "source": [
    "print(atom_name[0], atom_name[2])"
   ]
  },
  {
   "cell_type": "code",
   "execution_count": 16,
   "id": "0af2b7f5-230a-4fa8-af9b-cea1db912aff",
   "metadata": {},
   "outputs": [
    {
     "ename": "NameError",
     "evalue": "name 'ABC' is not defined",
     "output_type": "error",
     "traceback": [
      "\u001b[1;31m---------------------------------------------------------------------------\u001b[0m",
      "\u001b[1;31mNameError\u001b[0m                                 Traceback (most recent call last)",
      "Input \u001b[1;32mIn [16]\u001b[0m, in \u001b[0;36m<cell line: 2>\u001b[1;34m()\u001b[0m\n\u001b[0;32m      1\u001b[0m abc \u001b[38;5;241m=\u001b[39m \u001b[38;5;241m5\u001b[39m\n\u001b[1;32m----> 2\u001b[0m \u001b[38;5;28mprint\u001b[39m(\u001b[43mABC\u001b[49m)\n",
      "\u001b[1;31mNameError\u001b[0m: name 'ABC' is not defined"
     ]
    }
   ],
   "source": [
    "abc = 5\n",
    "print(ABC)"
   ]
  },
  {
   "cell_type": "code",
   "execution_count": 17,
   "id": "13fc0fd9-b009-4de8-8d3a-c28b42997753",
   "metadata": {},
   "outputs": [
    {
     "name": "stdout",
     "output_type": "stream",
     "text": [
      "5\n"
     ]
    }
   ],
   "source": [
    "print(abc)"
   ]
  },
  {
   "cell_type": "code",
   "execution_count": 18,
   "id": "74139c15-c918-4919-81f3-e1df22b59e37",
   "metadata": {},
   "outputs": [
    {
     "name": "stdout",
     "output_type": "stream",
     "text": [
      "6\n"
     ]
    }
   ],
   "source": [
    "abc = 6\n",
    "print(abc)"
   ]
  },
  {
   "cell_type": "code",
   "execution_count": 19,
   "id": "281dede9-92e8-45cd-890b-c5b204c85953",
   "metadata": {},
   "outputs": [
    {
     "name": "stdout",
     "output_type": "stream",
     "text": [
      "3 3\n"
     ]
    }
   ],
   "source": [
    "x = 1\n",
    "y = 3\n",
    "x = y\n",
    "print(x, y)"
   ]
  },
  {
   "cell_type": "code",
   "execution_count": 20,
   "id": "85cef9bd-a1a0-4983-b134-d995088bb96d",
   "metadata": {},
   "outputs": [
    {
     "name": "stdout",
     "output_type": "stream",
     "text": [
      "3 4\n"
     ]
    }
   ],
   "source": [
    "y = 4\n",
    "print(x, y)"
   ]
  },
  {
   "cell_type": "code",
   "execution_count": 21,
   "id": "1146361d-3212-49ff-a976-bacb9ed110c3",
   "metadata": {},
   "outputs": [],
   "source": [
    "x = 1\n",
    "y = 1.1"
   ]
  },
  {
   "cell_type": "code",
   "execution_count": 22,
   "id": "e698df48-ca93-4ba6-8834-25f1e975670e",
   "metadata": {},
   "outputs": [
    {
     "name": "stdout",
     "output_type": "stream",
     "text": [
      "1 1.1\n"
     ]
    }
   ],
   "source": [
    "print(x, y)"
   ]
  },
  {
   "cell_type": "code",
   "execution_count": 23,
   "id": "db35aafe-a467-45d2-84a2-11a8cdd4e972",
   "metadata": {},
   "outputs": [
    {
     "name": "stdout",
     "output_type": "stream",
     "text": [
      "<class 'int'>\n"
     ]
    }
   ],
   "source": [
    "print(type(x))"
   ]
  },
  {
   "cell_type": "code",
   "execution_count": 24,
   "id": "29de9fa8-a6b6-4eca-9a66-b9a89e2e6709",
   "metadata": {},
   "outputs": [
    {
     "name": "stdout",
     "output_type": "stream",
     "text": [
      "<class 'float'>\n"
     ]
    }
   ],
   "source": [
    "print(type(y))"
   ]
  },
  {
   "cell_type": "code",
   "execution_count": 25,
   "id": "39d2f7ea-ab89-49c8-88a8-799d1f8723c7",
   "metadata": {},
   "outputs": [
    {
     "name": "stdout",
     "output_type": "stream",
     "text": [
      "2.1\n"
     ]
    }
   ],
   "source": [
    "z = x + y\n",
    "print(z)"
   ]
  },
  {
   "cell_type": "code",
   "execution_count": 26,
   "id": "c9a523bc-3856-4fa0-9a11-0bff8af104b8",
   "metadata": {},
   "outputs": [
    {
     "name": "stdout",
     "output_type": "stream",
     "text": [
      "<class 'float'>\n"
     ]
    }
   ],
   "source": [
    "print(type(z))"
   ]
  },
  {
   "cell_type": "code",
   "execution_count": 27,
   "id": "fc6e478a-2316-4e04-a7ff-a303e322415b",
   "metadata": {},
   "outputs": [
    {
     "name": "stdout",
     "output_type": "stream",
     "text": [
      "<class 'str'>\n"
     ]
    }
   ],
   "source": [
    "print(type('hello'))"
   ]
  },
  {
   "cell_type": "code",
   "execution_count": 28,
   "id": "7b6ec0d5-a407-4316-addb-13839bee6ffd",
   "metadata": {},
   "outputs": [
    {
     "name": "stdout",
     "output_type": "stream",
     "text": [
      "3\n"
     ]
    }
   ],
   "source": [
    "print(5 - 2)"
   ]
  },
  {
   "cell_type": "code",
   "execution_count": 29,
   "id": "945f4e60-5f7b-4a1b-a48b-fbe8a9782225",
   "metadata": {},
   "outputs": [
    {
     "ename": "TypeError",
     "evalue": "unsupported operand type(s) for -: 'str' and 'str'",
     "output_type": "error",
     "traceback": [
      "\u001b[1;31m---------------------------------------------------------------------------\u001b[0m",
      "\u001b[1;31mTypeError\u001b[0m                                 Traceback (most recent call last)",
      "Input \u001b[1;32mIn [29]\u001b[0m, in \u001b[0;36m<cell line: 1>\u001b[1;34m()\u001b[0m\n\u001b[1;32m----> 1\u001b[0m \u001b[38;5;28mprint\u001b[39m(\u001b[38;5;124;43m'\u001b[39;49m\u001b[38;5;124;43mhello\u001b[39;49m\u001b[38;5;124;43m'\u001b[39;49m\u001b[43m \u001b[49m\u001b[38;5;241;43m-\u001b[39;49m\u001b[43m \u001b[49m\u001b[38;5;124;43m'\u001b[39;49m\u001b[38;5;124;43mh\u001b[39;49m\u001b[38;5;124;43m'\u001b[39;49m)\n",
      "\u001b[1;31mTypeError\u001b[0m: unsupported operand type(s) for -: 'str' and 'str'"
     ]
    }
   ],
   "source": [
    "print('hello' - 'h')"
   ]
  },
  {
   "cell_type": "code",
   "execution_count": 30,
   "id": "b1b7c621-b815-4638-aab5-c7358e8c2c38",
   "metadata": {},
   "outputs": [
    {
     "name": "stdout",
     "output_type": "stream",
     "text": [
      "ello\n"
     ]
    }
   ],
   "source": [
    "print('hello'[1:len('hello')])"
   ]
  },
  {
   "cell_type": "code",
   "execution_count": 31,
   "id": "feb7549c-2786-42e7-aa68-b9bd7adf3fc2",
   "metadata": {},
   "outputs": [],
   "source": [
    "x = 'hello'"
   ]
  },
  {
   "cell_type": "code",
   "execution_count": 32,
   "id": "ad6511bc-0a7a-483a-8813-daa08cc533a6",
   "metadata": {},
   "outputs": [
    {
     "ename": "SyntaxError",
     "evalue": "unexpected EOF while parsing (1802240353.py, line 1)",
     "output_type": "error",
     "traceback": [
      "\u001b[1;36m  Input \u001b[1;32mIn [32]\u001b[1;36m\u001b[0m\n\u001b[1;33m    print(x[0:-1]\u001b[0m\n\u001b[1;37m                 ^\u001b[0m\n\u001b[1;31mSyntaxError\u001b[0m\u001b[1;31m:\u001b[0m unexpected EOF while parsing\n"
     ]
    }
   ],
   "source": [
    "print(x[0:-1]"
   ]
  },
  {
   "cell_type": "code",
   "execution_count": 33,
   "id": "ba2698b7-9142-4fa5-abad-ffd5401d6a66",
   "metadata": {},
   "outputs": [
    {
     "name": "stdout",
     "output_type": "stream",
     "text": [
      "hell\n"
     ]
    }
   ],
   "source": [
    "print(x[0:-1])"
   ]
  },
  {
   "cell_type": "code",
   "execution_count": 34,
   "id": "ec348c62-75ce-4f9d-893b-e980c6c79566",
   "metadata": {},
   "outputs": [
    {
     "name": "stdout",
     "output_type": "stream",
     "text": [
      "xy\n"
     ]
    }
   ],
   "source": [
    "print('x'+'y')"
   ]
  },
  {
   "cell_type": "code",
   "execution_count": 35,
   "id": "e44ea96d-1bd6-4115-9824-418cf82746a0",
   "metadata": {},
   "outputs": [],
   "source": [
    "characters = 'x' + 'y'"
   ]
  },
  {
   "cell_type": "code",
   "execution_count": 36,
   "id": "b683122c-3ca0-48bb-a7c8-c0b5046735f7",
   "metadata": {},
   "outputs": [
    {
     "name": "stdout",
     "output_type": "stream",
     "text": [
      "xy\n"
     ]
    }
   ],
   "source": [
    "print(characters)"
   ]
  },
  {
   "cell_type": "code",
   "execution_count": 37,
   "id": "a992446c-8b4c-40a7-92fc-8c052c9d0d4c",
   "metadata": {},
   "outputs": [
    {
     "name": "stdout",
     "output_type": "stream",
     "text": [
      "xy\n"
     ]
    }
   ],
   "source": [
    "character = 'x' * 4\n",
    "print(characters)"
   ]
  },
  {
   "cell_type": "code",
   "execution_count": 38,
   "id": "a41af3cb-8329-4f24-8c11-8ecb7cc84cf8",
   "metadata": {},
   "outputs": [
    {
     "name": "stdout",
     "output_type": "stream",
     "text": [
      "xxxx\n"
     ]
    }
   ],
   "source": [
    "print(character)"
   ]
  },
  {
   "cell_type": "code",
   "execution_count": 39,
   "id": "45cf9458-952d-4cb6-9c8f-4ae89f270ce5",
   "metadata": {},
   "outputs": [
    {
     "ename": "TypeError",
     "evalue": "object of type 'int' has no len()",
     "output_type": "error",
     "traceback": [
      "\u001b[1;31m---------------------------------------------------------------------------\u001b[0m",
      "\u001b[1;31mTypeError\u001b[0m                                 Traceback (most recent call last)",
      "Input \u001b[1;32mIn [39]\u001b[0m, in \u001b[0;36m<cell line: 1>\u001b[1;34m()\u001b[0m\n\u001b[1;32m----> 1\u001b[0m \u001b[38;5;28mprint\u001b[39m(\u001b[38;5;28;43mlen\u001b[39;49m\u001b[43m(\u001b[49m\u001b[38;5;241;43m5\u001b[39;49m\u001b[43m)\u001b[49m)\n",
      "\u001b[1;31mTypeError\u001b[0m: object of type 'int' has no len()"
     ]
    }
   ],
   "source": [
    "print(len(5))"
   ]
  },
  {
   "cell_type": "code",
   "execution_count": 40,
   "id": "ff945751-9ec9-482b-9526-bcc19b6b40fd",
   "metadata": {},
   "outputs": [
    {
     "name": "stdout",
     "output_type": "stream",
     "text": [
      "2.5\n"
     ]
    }
   ],
   "source": [
    "print(5 / 2)"
   ]
  },
  {
   "cell_type": "code",
   "execution_count": 41,
   "id": "5be669f8-acb9-4167-8dd7-fb18f57a22e3",
   "metadata": {},
   "outputs": [
    {
     "name": "stdout",
     "output_type": "stream",
     "text": [
      "2\n"
     ]
    }
   ],
   "source": [
    "print( 5 // 2)"
   ]
  },
  {
   "cell_type": "code",
   "execution_count": 42,
   "id": "5005f200-96dc-4620-ab07-d2e790e587ab",
   "metadata": {},
   "outputs": [],
   "source": [
    "x = str(5)"
   ]
  },
  {
   "cell_type": "code",
   "execution_count": 43,
   "id": "9d911ada-f080-44ec-872a-a39cd3b6dd99",
   "metadata": {},
   "outputs": [
    {
     "name": "stdout",
     "output_type": "stream",
     "text": [
      "5\n"
     ]
    }
   ],
   "source": [
    "print(x)"
   ]
  },
  {
   "cell_type": "code",
   "execution_count": 44,
   "id": "2e66a1f5-d8a4-4556-b7a0-81661d67b72f",
   "metadata": {},
   "outputs": [
    {
     "name": "stdout",
     "output_type": "stream",
     "text": [
      "<class 'str'>\n"
     ]
    }
   ],
   "source": [
    "print(type(x))"
   ]
  },
  {
   "cell_type": "code",
   "execution_count": 45,
   "id": "39db70c8-6b40-4823-b976-4bad90071491",
   "metadata": {},
   "outputs": [],
   "source": [
    "x = float(x)"
   ]
  },
  {
   "cell_type": "code",
   "execution_count": 46,
   "id": "6bd279ea-0c84-4eee-97f1-68ab47a06a49",
   "metadata": {},
   "outputs": [
    {
     "name": "stdout",
     "output_type": "stream",
     "text": [
      "5.0 <class 'float'>\n"
     ]
    }
   ],
   "source": [
    "print(x, type(x))"
   ]
  },
  {
   "cell_type": "code",
   "execution_count": 47,
   "id": "497fc771-b3cd-4e85-a848-87d6af69e081",
   "metadata": {},
   "outputs": [
    {
     "name": "stdout",
     "output_type": "stream",
     "text": [
      "5 <class 'int'>\n"
     ]
    }
   ],
   "source": [
    "x = int(x)\n",
    "print(x, type(x))"
   ]
  },
  {
   "cell_type": "code",
   "execution_count": 48,
   "id": "9116c1a4-4143-43f3-adba-9aafdccce692",
   "metadata": {},
   "outputs": [
    {
     "ename": "ValueError",
     "evalue": "invalid literal for int() with base 10: '3.4'",
     "output_type": "error",
     "traceback": [
      "\u001b[1;31m---------------------------------------------------------------------------\u001b[0m",
      "\u001b[1;31mValueError\u001b[0m                                Traceback (most recent call last)",
      "Input \u001b[1;32mIn [48]\u001b[0m, in \u001b[0;36m<cell line: 1>\u001b[1;34m()\u001b[0m\n\u001b[1;32m----> 1\u001b[0m \u001b[38;5;28mprint\u001b[39m(\u001b[38;5;28;43mint\u001b[39;49m\u001b[43m(\u001b[49m\u001b[38;5;124;43m\"\u001b[39;49m\u001b[38;5;124;43m3.4\u001b[39;49m\u001b[38;5;124;43m\"\u001b[39;49m\u001b[43m)\u001b[49m)\n",
      "\u001b[1;31mValueError\u001b[0m: invalid literal for int() with base 10: '3.4'"
     ]
    }
   ],
   "source": [
    "print(int(\"3.4\"))"
   ]
  },
  {
   "cell_type": "code",
   "execution_count": 49,
   "id": "94b99436-8c25-45a4-aec6-f58f915153b1",
   "metadata": {},
   "outputs": [
    {
     "name": "stdout",
     "output_type": "stream",
     "text": [
      "3\n"
     ]
    }
   ],
   "source": [
    "print(int(float(\"3.4\")))"
   ]
  },
  {
   "cell_type": "code",
   "execution_count": 50,
   "id": "346eb040-9cf4-4173-98c7-54641c129ab6",
   "metadata": {},
   "outputs": [
    {
     "name": "stdout",
     "output_type": "stream",
     "text": [
      "1000000\n"
     ]
    }
   ],
   "source": [
    "print(1_000_000)"
   ]
  },
  {
   "cell_type": "code",
   "execution_count": 51,
   "id": "3ed814dc-60aa-4a3f-97a7-6220e3feeac5",
   "metadata": {},
   "outputs": [
    {
     "ename": "TypeError",
     "evalue": "can only concatenate str (not \"int\") to str",
     "output_type": "error",
     "traceback": [
      "\u001b[1;31m---------------------------------------------------------------------------\u001b[0m",
      "\u001b[1;31mTypeError\u001b[0m                                 Traceback (most recent call last)",
      "Input \u001b[1;32mIn [51]\u001b[0m, in \u001b[0;36m<cell line: 1>\u001b[1;34m()\u001b[0m\n\u001b[1;32m----> 1\u001b[0m \u001b[38;5;28mprint\u001b[39m(\u001b[38;5;124;43m'\u001b[39;49m\u001b[38;5;124;43mx\u001b[39;49m\u001b[38;5;124;43m'\u001b[39;49m\u001b[43m \u001b[49m\u001b[38;5;241;43m+\u001b[39;49m\u001b[43m \u001b[49m\u001b[38;5;241;43m4\u001b[39;49m)\n",
      "\u001b[1;31mTypeError\u001b[0m: can only concatenate str (not \"int\") to str"
     ]
    }
   ],
   "source": [
    "print('x' + 4)"
   ]
  },
  {
   "cell_type": "code",
   "execution_count": 52,
   "id": "1edb364a-cda5-4748-ad45-a3fb70250c06",
   "metadata": {},
   "outputs": [
    {
     "name": "stdout",
     "output_type": "stream",
     "text": [
      "x4\n"
     ]
    }
   ],
   "source": [
    "print('x' + str(4))"
   ]
  },
  {
   "cell_type": "markdown",
   "id": "e8b6369a-aa51-43ec-9ecd-7a288d01bccf",
   "metadata": {
    "tags": []
   },
   "source": [
    "# Built-in Functions"
   ]
  },
  {
   "cell_type": "code",
   "execution_count": 53,
   "id": "fd908195-685f-4e50-9de3-c1a2ea763be5",
   "metadata": {},
   "outputs": [
    {
     "name": "stdout",
     "output_type": "stream",
     "text": [
      "1.1\n"
     ]
    }
   ],
   "source": [
    "x = 4 # We have assigned the value 4 to x\n",
    "# Assign y to x\n",
    "x = y\n",
    "print(x)"
   ]
  },
  {
   "cell_type": "code",
   "execution_count": 54,
   "id": "0b89d211-b821-4470-aa59-3fc0b906bb04",
   "metadata": {},
   "outputs": [
    {
     "name": "stdout",
     "output_type": "stream",
     "text": [
      "3\n"
     ]
    }
   ],
   "source": [
    "print(max(1, 2, 3))"
   ]
  },
  {
   "cell_type": "code",
   "execution_count": 55,
   "id": "d2771153-f663-4a01-9110-e60d849e127c",
   "metadata": {},
   "outputs": [
    {
     "name": "stdout",
     "output_type": "stream",
     "text": [
      "0\n"
     ]
    }
   ],
   "source": [
    "print(min('a', 'A', '0'))"
   ]
  },
  {
   "cell_type": "code",
   "execution_count": 56,
   "id": "a7a4c557-bea4-4250-b428-3ab3c71c9e5f",
   "metadata": {},
   "outputs": [
    {
     "name": "stdout",
     "output_type": "stream",
     "text": [
      "a\n"
     ]
    }
   ],
   "source": [
    "print(max('a', 'A', '0'))"
   ]
  },
  {
   "cell_type": "code",
   "execution_count": 57,
   "id": "a3aa60b2-1983-4a3f-bb69-011267445530",
   "metadata": {},
   "outputs": [
    {
     "name": "stdout",
     "output_type": "stream",
     "text": [
      "3\n"
     ]
    }
   ],
   "source": [
    "print(round(3.14))"
   ]
  },
  {
   "cell_type": "code",
   "execution_count": 58,
   "id": "04f6318e-b511-4a56-9d45-ae8cd653319d",
   "metadata": {},
   "outputs": [
    {
     "name": "stdout",
     "output_type": "stream",
     "text": [
      "4\n"
     ]
    }
   ],
   "source": [
    "print(round(3.74))"
   ]
  },
  {
   "cell_type": "code",
   "execution_count": 59,
   "id": "15874ebb-5251-4975-b520-eaa7987139dc",
   "metadata": {},
   "outputs": [
    {
     "name": "stdout",
     "output_type": "stream",
     "text": [
      "3.149\n"
     ]
    }
   ],
   "source": [
    "print(3.149)"
   ]
  },
  {
   "cell_type": "code",
   "execution_count": 60,
   "id": "1c77a1f3-ffcf-4f23-aff3-0f5caa2a0f71",
   "metadata": {},
   "outputs": [
    {
     "name": "stdout",
     "output_type": "stream",
     "text": [
      "3\n"
     ]
    }
   ],
   "source": [
    "print(round(3.149))"
   ]
  },
  {
   "cell_type": "code",
   "execution_count": 61,
   "id": "3d23dc9a-e17b-448c-b9d3-f1d7b4313759",
   "metadata": {},
   "outputs": [
    {
     "name": "stdout",
     "output_type": "stream",
     "text": [
      "Help on built-in function round in module builtins:\n",
      "\n",
      "round(number, ndigits=None)\n",
      "    Round a number to a given precision in decimal digits.\n",
      "    \n",
      "    The return value is an integer if ndigits is omitted or None.  Otherwise\n",
      "    the return value has the same type as the number.  ndigits may be negative.\n",
      "\n"
     ]
    }
   ],
   "source": [
    "help(round)"
   ]
  },
  {
   "cell_type": "code",
   "execution_count": 62,
   "id": "c34461cf-dd0a-4586-9360-c0f3098b5356",
   "metadata": {},
   "outputs": [
    {
     "ename": "SyntaxError",
     "evalue": "unexpected EOF while parsing (3732061330.py, line 1)",
     "output_type": "error",
     "traceback": [
      "\u001b[1;36m  Input \u001b[1;32mIn [62]\u001b[1;36m\u001b[0m\n\u001b[1;33m    print(round(3.149, ndigits=2)\u001b[0m\n\u001b[1;37m                                 ^\u001b[0m\n\u001b[1;31mSyntaxError\u001b[0m\u001b[1;31m:\u001b[0m unexpected EOF while parsing\n"
     ]
    }
   ],
   "source": [
    "print(round(3.149, ndigits=2)"
   ]
  },
  {
   "cell_type": "code",
   "execution_count": 63,
   "id": "f9ff8adc-3f1e-41b9-ad8c-54f915920cc3",
   "metadata": {},
   "outputs": [
    {
     "name": "stdout",
     "output_type": "stream",
     "text": [
      "3.15\n"
     ]
    }
   ],
   "source": [
    "print(round(3.149, ndigits=2))"
   ]
  },
  {
   "cell_type": "code",
   "execution_count": 64,
   "id": "928dd820-03d1-4fe7-9be9-8efba9b384c9",
   "metadata": {},
   "outputs": [
    {
     "name": "stdout",
     "output_type": "stream",
     "text": [
      "Help on built-in function print in module builtins:\n",
      "\n",
      "print(...)\n",
      "    print(value, ..., sep=' ', end='\\n', file=sys.stdout, flush=False)\n",
      "    \n",
      "    Prints the values to a stream, or to sys.stdout by default.\n",
      "    Optional keyword arguments:\n",
      "    file:  a file-like object (stream); defaults to the current sys.stdout.\n",
      "    sep:   string inserted between values, default a space.\n",
      "    end:   string appended after the last value, default a newline.\n",
      "    flush: whether to forcibly flush the stream.\n",
      "\n"
     ]
    }
   ],
   "source": [
    "help(print)"
   ]
  },
  {
   "cell_type": "code",
   "execution_count": 65,
   "id": "9e300e3f-4d4f-45d3-83ec-b2465c155854",
   "metadata": {},
   "outputs": [
    {
     "name": "stdout",
     "output_type": "stream",
     "text": [
      "I love Python\n"
     ]
    }
   ],
   "source": [
    "print('I love Python', sep='.')"
   ]
  },
  {
   "cell_type": "code",
   "execution_count": 66,
   "id": "63e51d87-3b9c-4329-ace9-3f8848bd8bb0",
   "metadata": {},
   "outputs": [
    {
     "name": "stdout",
     "output_type": "stream",
     "text": [
      "I love Python\n"
     ]
    }
   ],
   "source": [
    "print('I', 'love', 'Python')"
   ]
  },
  {
   "cell_type": "code",
   "execution_count": 67,
   "id": "86dad810-6bc1-479c-bd88-4f08fdff5b77",
   "metadata": {},
   "outputs": [
    {
     "name": "stdout",
     "output_type": "stream",
     "text": [
      "I.love.Python\n"
     ]
    }
   ],
   "source": [
    "print('I', 'love', 'Python', sep='.')"
   ]
  },
  {
   "cell_type": "code",
   "execution_count": 68,
   "id": "f75bc4b9-cbb9-4021-bf94-4097777369e2",
   "metadata": {},
   "outputs": [
    {
     "name": "stdout",
     "output_type": "stream",
     "text": [
      "3.74\n"
     ]
    }
   ],
   "source": [
    "print(round(3.741, 2))"
   ]
  },
  {
   "cell_type": "code",
   "execution_count": 69,
   "id": "efea2ffc-0ede-48cb-be8a-46486ac8e73a",
   "metadata": {},
   "outputs": [
    {
     "name": "stdout",
     "output_type": "stream",
     "text": [
      "HELLO WORLD\n"
     ]
    }
   ],
   "source": [
    "print('hello world'.upper())"
   ]
  },
  {
   "cell_type": "code",
   "execution_count": 70,
   "id": "c95f796c-a506-4e5f-b8b7-d84209a1b105",
   "metadata": {},
   "outputs": [
    {
     "name": "stdout",
     "output_type": "stream",
     "text": [
      "hello world\n"
     ]
    }
   ],
   "source": [
    "hello = 'HELLO WORLD'\n",
    "print(hello.lower())"
   ]
  },
  {
   "cell_type": "code",
   "execution_count": 71,
   "id": "69ea7b45-2a80-42bb-8817-f8bdabb45ac8",
   "metadata": {},
   "outputs": [
    {
     "name": "stdout",
     "output_type": "stream",
     "text": [
      "True\n"
     ]
    }
   ],
   "source": [
    "print(hello.isupper())"
   ]
  },
  {
   "cell_type": "code",
   "execution_count": 72,
   "id": "66be6c9e-10b0-4fe5-a1c4-04b08ce28df7",
   "metadata": {},
   "outputs": [
    {
     "name": "stdout",
     "output_type": "stream",
     "text": [
      "False\n"
     ]
    }
   ],
   "source": [
    "print(hello.islower())"
   ]
  },
  {
   "cell_type": "code",
   "execution_count": 73,
   "id": "c1104e38-2135-4e2a-8f1d-e06dfc731047",
   "metadata": {},
   "outputs": [
    {
     "name": "stdout",
     "output_type": "stream",
     "text": [
      "False\n"
     ]
    }
   ],
   "source": [
    "print('Hello World'.islower())"
   ]
  },
  {
   "cell_type": "markdown",
   "id": "17d2a8ba-6357-4815-9831-b29b08963291",
   "metadata": {},
   "source": [
    "# Lists"
   ]
  },
  {
   "cell_type": "code",
   "execution_count": 74,
   "id": "cbdab548-6472-4d0e-88c5-e0f19cd599d6",
   "metadata": {},
   "outputs": [
    {
     "name": "stdout",
     "output_type": "stream",
     "text": [
      "[1, 3, 5, 7]\n"
     ]
    }
   ],
   "source": [
    "odds = [1, 3, 5, 7]\n",
    "print(odds)"
   ]
  },
  {
   "cell_type": "code",
   "execution_count": 75,
   "id": "79f8d058-2921-4198-b90d-e4a05d540091",
   "metadata": {},
   "outputs": [
    {
     "name": "stdout",
     "output_type": "stream",
     "text": [
      "7\n"
     ]
    }
   ],
   "source": [
    "print(max(odds))"
   ]
  },
  {
   "cell_type": "code",
   "execution_count": 76,
   "id": "cb40275f-a1c7-431d-ad2b-d8390707e15c",
   "metadata": {},
   "outputs": [
    {
     "name": "stdout",
     "output_type": "stream",
     "text": [
      "1\n"
     ]
    }
   ],
   "source": [
    "print(odds[0])"
   ]
  },
  {
   "cell_type": "code",
   "execution_count": 77,
   "id": "5d67b799-b4ed-4053-872f-74a41fc9f720",
   "metadata": {},
   "outputs": [
    {
     "name": "stdout",
     "output_type": "stream",
     "text": [
      "7\n"
     ]
    }
   ],
   "source": [
    "print(odds[-1])"
   ]
  },
  {
   "cell_type": "code",
   "execution_count": 78,
   "id": "d5c17c05-df51-4877-8088-6dc4588ba738",
   "metadata": {},
   "outputs": [
    {
     "name": "stdout",
     "output_type": "stream",
     "text": [
      "[3, 5]\n"
     ]
    }
   ],
   "source": [
    "print(odds[1:3])"
   ]
  },
  {
   "cell_type": "code",
   "execution_count": 79,
   "id": "b65a5165-b6cd-4262-be34-482113a1ab2f",
   "metadata": {},
   "outputs": [],
   "source": [
    "odds[3] = 9"
   ]
  },
  {
   "cell_type": "code",
   "execution_count": 80,
   "id": "802d1c09-6963-4bc0-b211-4eb5aad5f237",
   "metadata": {},
   "outputs": [
    {
     "name": "stdout",
     "output_type": "stream",
     "text": [
      "[1, 3, 5, 9]\n"
     ]
    }
   ],
   "source": [
    "print(odds)"
   ]
  },
  {
   "cell_type": "code",
   "execution_count": 81,
   "id": "c9b883f0-81e1-4784-bbc7-454953b71c90",
   "metadata": {},
   "outputs": [
    {
     "name": "stdout",
     "output_type": "stream",
     "text": [
      "5\n"
     ]
    }
   ],
   "source": [
    "print(odds[1-3])"
   ]
  },
  {
   "cell_type": "code",
   "execution_count": null,
   "id": "da963cf2-e79a-4120-8efc-cc730f16d3d8",
   "metadata": {},
   "outputs": [],
   "source": []
  }
 ],
 "metadata": {
  "kernelspec": {
   "display_name": "Python 3 (ipykernel)",
   "language": "python",
   "name": "python3"
  },
  "language_info": {
   "codemirror_mode": {
    "name": "ipython",
    "version": 3
   },
   "file_extension": ".py",
   "mimetype": "text/x-python",
   "name": "python",
   "nbconvert_exporter": "python",
   "pygments_lexer": "ipython3",
   "version": "3.9.12"
  }
 },
 "nbformat": 4,
 "nbformat_minor": 5
}
